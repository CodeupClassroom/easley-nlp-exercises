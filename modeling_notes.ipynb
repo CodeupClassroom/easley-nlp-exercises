{
 "cells": [
  {
   "cell_type": "markdown",
   "metadata": {},
   "source": [
    "# NLP Modeling\n",
    "\n",
    "The \"big idea\" of modeling is to determine what a document is all about; which words are important or not. The main task is to determine the weight of each word, relative to the document.\n",
    "\n",
    "\n",
    "## What\n",
    "- Introducing our _Dramatis Personae_, the characters in our play:\n",
    "    - `Term frequency` is a direct way to measure what a document is about, but it over-emphasizes common terms. Consider term frequency the baseline, kinda like how median, median, or mode can be baselines. It's at least somewhere to start, even if it's a blunt tool w/ some issues.\n",
    "    - `TF` = # times a word occurs divided by the total amount of words. \n",
    "    - `Bag of words` is a representation of a document as a vector, where the values indicate word frequency.\n",
    "        ```\n",
    "        string = \"Mary had a little lamb, little lamb, little lamb.\"\n",
    "        string = string.replace(\",\", \"\")\n",
    "        words = string.split()\n",
    "        bag_of_words = pd.Series(words).value_counts()\n",
    "        ```\n",
    "    - Word clouds are a visual bag of words with larger font sizes representing higher term frequency\n",
    "    - Inverse Document Frequency, `IDF`, tells us how much information a word provides. \n",
    "        - A higher IDF means that a word provides more information. That is, it is more relevant within a single document.\n",
    "        - As the number of documents that a word appears in increases, the IDF value decreases.\n",
    "        - Example: if \"Codeup\" appears frequently in every document in a list of documents, then the word doesn't add much new information on any given individual document.\n",
    "        - Example: if \"scholarship\" shows up a whole bunch one one or two documents, but not frequently across the corups of documents, then we can conclude that that word conveys more meaning.\n",
    "        \n",
    "    - `TF-IDF` is the product of `tf * idf` and is \n",
    "\n",
    "\n",
    "## So What?\n",
    "- Determining what a document is about is both valuable and challening.\n",
    "- Term frequency is super sensitive to noise\n",
    "- TF-IDF is super common and has been used in the majority of text based recommendation systems. See [tf-idf in Wikipedia](https://en.wikipedia.org/wiki/Tf%E2%80%93idf)\n",
    "\n",
    "## Now What?\n"
   ]
  },
  {
   "cell_type": "code",
   "execution_count": null,
   "metadata": {},
   "outputs": [],
   "source": []
  },
  {
   "cell_type": "code",
   "execution_count": null,
   "metadata": {},
   "outputs": [],
   "source": []
  },
  {
   "cell_type": "code",
   "execution_count": null,
   "metadata": {},
   "outputs": [],
   "source": []
  }
 ],
 "metadata": {
  "kernelspec": {
   "display_name": "Python 3",
   "language": "python",
   "name": "python3"
  },
  "language_info": {
   "codemirror_mode": {
    "name": "ipython",
    "version": 3
   },
   "file_extension": ".py",
   "mimetype": "text/x-python",
   "name": "python",
   "nbconvert_exporter": "python",
   "pygments_lexer": "ipython3",
   "version": "3.8.5"
  }
 },
 "nbformat": 4,
 "nbformat_minor": 4
}
