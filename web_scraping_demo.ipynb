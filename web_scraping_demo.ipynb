{
 "cells": [
  {
   "cell_type": "code",
   "execution_count": 1,
   "id": "healthy-pavilion",
   "metadata": {},
   "outputs": [],
   "source": [
    "import requests\n",
    "import bs4"
   ]
  },
  {
   "cell_type": "code",
   "execution_count": 7,
   "id": "proof-murder",
   "metadata": {},
   "outputs": [],
   "source": [
    "# make the http request and turn the response into a beautiful soup object\n",
    "response = requests.get('https://web-scraping-demo.zgulde.net/news')\n",
    "html = response.text\n",
    "soup = bs4.BeautifulSoup(html)"
   ]
  },
  {
   "cell_type": "markdown",
   "id": "widespread-password",
   "metadata": {},
   "source": [
    "1. Find the container for the information we want `article_container`\n",
    "1. Within the container, identify the entities that we want to produce a list\n",
    "1. Process each individual entity (identify the pieces that we want and extract them)"
   ]
  },
  {
   "cell_type": "code",
   "execution_count": 12,
   "id": "occasional-proxy",
   "metadata": {},
   "outputs": [],
   "source": [
    "article_container = soup.select('.grid.gap-y-12')[0]"
   ]
  },
  {
   "cell_type": "code",
   "execution_count": 19,
   "id": "minor-malawi",
   "metadata": {},
   "outputs": [],
   "source": [
    "articles = article_container.select('.grid.grid-cols-4.gap-x-4.border')"
   ]
  },
  {
   "cell_type": "code",
   "execution_count": 24,
   "id": "diverse-solution",
   "metadata": {},
   "outputs": [
    {
     "name": "stdout",
     "output_type": "stream",
     "text": [
      "<div class=\"grid grid-cols-4 gap-x-4 border rounded pr-3 bg-green-50 hover:shadow-lg transition duration-500\">\n",
      " <img src=\"/static/placeholder.png\"/>\n",
      " <div class=\"col-span-3 space-y-3 py-3\">\n",
      "  <h2 class=\"text-2xl text-green-900\">\n",
      "   help human fly\n",
      "  </h2>\n",
      "  <div class=\"grid grid-cols-2 italic\">\n",
      "   <p>\n",
      "    1989-11-04\n",
      "   </p>\n",
      "   <p class=\"text-right\">\n",
      "    By Stephanie Mendoza\n",
      "   </p>\n",
      "  </div>\n",
      "  <p>\n",
      "   Song learn day party. Nor again between knowledge.\n",
      "Reach exist huge. Role each process receive role inside around safe. Simple these understand main specific guy.\n",
      "  </p>\n",
      " </div>\n",
      "</div>\n",
      "\n"
     ]
    }
   ],
   "source": [
    "article = articles[0]\n",
    "# get a pretty printed representation of our element\n",
    "print(article.prettify())"
   ]
  },
  {
   "cell_type": "markdown",
   "id": "supposed-section",
   "metadata": {},
   "source": [
    "`.select` vs `.find` or `.find_all`\n",
    "\n",
    "- `.select` always gives back a list, sometimes the list is empty, sometimes it has a single element, sometimes it has multiple elements\n",
    "- `.find` and `.find_all` accept a *tag name*\n",
    "- `.find` returns a single element\n",
    "- `.find_all` returns a list of elements\n",
    "- With `.select` multiple class names each have a `.` in front of them\n",
    "- With `.find` or `.find_all` you can use a `class_` keyword argument, but the classes must match exactly"
   ]
  },
  {
   "cell_type": "code",
   "execution_count": 53,
   "id": "impressive-destination",
   "metadata": {},
   "outputs": [
    {
     "data": {
      "text/plain": [
       "<div class=\"grid grid-cols-2 italic\">\n",
       "<p> 1989-11-04 </p>\n",
       "<p class=\"text-right\">By Stephanie Mendoza </p>\n",
       "</div>"
      ]
     },
     "execution_count": 53,
     "metadata": {},
     "output_type": "execute_result"
    }
   ],
   "source": [
    "article.find('div', class_='grid grid-cols-2 italic')"
   ]
  },
  {
   "cell_type": "code",
   "execution_count": 41,
   "id": "adequate-character",
   "metadata": {},
   "outputs": [],
   "source": [
    "def process_article(article):\n",
    "    title = article.find('h2').text\n",
    "    date_and_byline_div = article.select('.grid.grid-cols-2.italic')[0]\n",
    "    date_p, by_p = date_and_byline_div.find_all('p')\n",
    "    summary = article.find_all('p')[-1].text\n",
    "    \n",
    "    return {\n",
    "        \"title\": title,\n",
    "        \"date\": date_p.text,\n",
    "        \"by\": by_p.text,\n",
    "        \"summary\": summary\n",
    "    }"
   ]
  },
  {
   "cell_type": "code",
   "execution_count": 46,
   "id": "lucky-patrick",
   "metadata": {},
   "outputs": [
    {
     "data": {
      "text/plain": [
       "{'title': 'energy plan go',\n",
       " 'date': ' 1973-10-24 ',\n",
       " 'by': 'By James Serrano ',\n",
       " 'summary': 'Back certain democratic still. Ready power begin medical security energy.\\nPrepare nature hotel Republican see onto statement. Artist foreign space dinner.'}"
      ]
     },
     "execution_count": 46,
     "metadata": {},
     "output_type": "execute_result"
    }
   ],
   "source": [
    "process_article(articles[3])"
   ]
  },
  {
   "cell_type": "code",
   "execution_count": 49,
   "id": "present-shield",
   "metadata": {},
   "outputs": [
    {
     "data": {
      "text/html": [
       "<div>\n",
       "<style scoped>\n",
       "    .dataframe tbody tr th:only-of-type {\n",
       "        vertical-align: middle;\n",
       "    }\n",
       "\n",
       "    .dataframe tbody tr th {\n",
       "        vertical-align: top;\n",
       "    }\n",
       "\n",
       "    .dataframe thead th {\n",
       "        text-align: right;\n",
       "    }\n",
       "</style>\n",
       "<table border=\"1\" class=\"dataframe\">\n",
       "  <thead>\n",
       "    <tr style=\"text-align: right;\">\n",
       "      <th></th>\n",
       "      <th>title</th>\n",
       "      <th>date</th>\n",
       "      <th>by</th>\n",
       "      <th>summary</th>\n",
       "    </tr>\n",
       "  </thead>\n",
       "  <tbody>\n",
       "    <tr>\n",
       "      <th>0</th>\n",
       "      <td>help human fly</td>\n",
       "      <td>1989-11-04</td>\n",
       "      <td>By Stephanie Mendoza</td>\n",
       "      <td>Song learn day party. Nor again between knowle...</td>\n",
       "    </tr>\n",
       "    <tr>\n",
       "      <th>1</th>\n",
       "      <td>serious generation vote</td>\n",
       "      <td>2016-08-08</td>\n",
       "      <td>By Amy Collier</td>\n",
       "      <td>Upon watch attention first could not. Religiou...</td>\n",
       "    </tr>\n",
       "    <tr>\n",
       "      <th>2</th>\n",
       "      <td>couple hold these</td>\n",
       "      <td>1985-09-04</td>\n",
       "      <td>By Cody Davis</td>\n",
       "      <td>Significant card should whole stage. Part cont...</td>\n",
       "    </tr>\n",
       "    <tr>\n",
       "      <th>3</th>\n",
       "      <td>energy plan go</td>\n",
       "      <td>1973-10-24</td>\n",
       "      <td>By James Serrano</td>\n",
       "      <td>Back certain democratic still. Ready power beg...</td>\n",
       "    </tr>\n",
       "    <tr>\n",
       "      <th>4</th>\n",
       "      <td>wish may final</td>\n",
       "      <td>2020-10-06</td>\n",
       "      <td>By Ryan Baker</td>\n",
       "      <td>High hard quite approach threat. Feel nice sur...</td>\n",
       "    </tr>\n",
       "    <tr>\n",
       "      <th>5</th>\n",
       "      <td>sense plant tend</td>\n",
       "      <td>1979-04-18</td>\n",
       "      <td>By Brian Pugh</td>\n",
       "      <td>Back do team. Sell good strategy third includi...</td>\n",
       "    </tr>\n",
       "    <tr>\n",
       "      <th>6</th>\n",
       "      <td>fire down report</td>\n",
       "      <td>2015-10-04</td>\n",
       "      <td>By Andrew Gould</td>\n",
       "      <td>World author popular laugh. Wind message whole...</td>\n",
       "    </tr>\n",
       "    <tr>\n",
       "      <th>7</th>\n",
       "      <td>tough history can</td>\n",
       "      <td>1983-04-13</td>\n",
       "      <td>By Stephanie Andrews</td>\n",
       "      <td>Will summer huge blue statement. Reason later ...</td>\n",
       "    </tr>\n",
       "    <tr>\n",
       "      <th>8</th>\n",
       "      <td>he start time</td>\n",
       "      <td>1991-12-13</td>\n",
       "      <td>By Alicia Clark</td>\n",
       "      <td>Trip tonight skill garden even mention price. ...</td>\n",
       "    </tr>\n",
       "    <tr>\n",
       "      <th>9</th>\n",
       "      <td>matter low including</td>\n",
       "      <td>2016-06-14</td>\n",
       "      <td>By Brian Hodges</td>\n",
       "      <td>Small more rock candidate five without these. ...</td>\n",
       "    </tr>\n",
       "    <tr>\n",
       "      <th>10</th>\n",
       "      <td>conference themselves including</td>\n",
       "      <td>1979-12-03</td>\n",
       "      <td>By Rickey Hernandez</td>\n",
       "      <td>Kind case director. Stay rest return usually c...</td>\n",
       "    </tr>\n",
       "    <tr>\n",
       "      <th>11</th>\n",
       "      <td>become can fish</td>\n",
       "      <td>2002-09-17</td>\n",
       "      <td>By Kimberly Williams</td>\n",
       "      <td>More network risk choose from fast. Must centr...</td>\n",
       "    </tr>\n",
       "  </tbody>\n",
       "</table>\n",
       "</div>"
      ],
      "text/plain": [
       "                              title          date                     by  \\\n",
       "0                    help human fly   1989-11-04   By Stephanie Mendoza    \n",
       "1           serious generation vote   2016-08-08         By Amy Collier    \n",
       "2                 couple hold these   1985-09-04          By Cody Davis    \n",
       "3                    energy plan go   1973-10-24       By James Serrano    \n",
       "4                    wish may final   2020-10-06          By Ryan Baker    \n",
       "5                  sense plant tend   1979-04-18          By Brian Pugh    \n",
       "6                  fire down report   2015-10-04        By Andrew Gould    \n",
       "7                 tough history can   1983-04-13   By Stephanie Andrews    \n",
       "8                     he start time   1991-12-13        By Alicia Clark    \n",
       "9              matter low including   2016-06-14        By Brian Hodges    \n",
       "10  conference themselves including   1979-12-03    By Rickey Hernandez    \n",
       "11                  become can fish   2002-09-17   By Kimberly Williams    \n",
       "\n",
       "                                              summary  \n",
       "0   Song learn day party. Nor again between knowle...  \n",
       "1   Upon watch attention first could not. Religiou...  \n",
       "2   Significant card should whole stage. Part cont...  \n",
       "3   Back certain democratic still. Ready power beg...  \n",
       "4   High hard quite approach threat. Feel nice sur...  \n",
       "5   Back do team. Sell good strategy third includi...  \n",
       "6   World author popular laugh. Wind message whole...  \n",
       "7   Will summer huge blue statement. Reason later ...  \n",
       "8   Trip tonight skill garden even mention price. ...  \n",
       "9   Small more rock candidate five without these. ...  \n",
       "10  Kind case director. Stay rest return usually c...  \n",
       "11  More network risk choose from fast. Must centr...  "
      ]
     },
     "execution_count": 49,
     "metadata": {},
     "output_type": "execute_result"
    }
   ],
   "source": [
    "import pandas as pd\n",
    "\n",
    "\n",
    "pd.DataFrame([process_article(article) for article in articles])"
   ]
  }
 ],
 "metadata": {
  "kernelspec": {
   "display_name": "Python 3",
   "language": "python",
   "name": "python3"
  },
  "language_info": {
   "codemirror_mode": {
    "name": "ipython",
    "version": 3
   },
   "file_extension": ".py",
   "mimetype": "text/x-python",
   "name": "python",
   "nbconvert_exporter": "python",
   "pygments_lexer": "ipython3",
   "version": "3.8.3"
  }
 },
 "nbformat": 4,
 "nbformat_minor": 5
}
